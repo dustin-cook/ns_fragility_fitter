{
 "cells": [
  {
   "cell_type": "markdown",
   "id": "cae4bf88",
   "metadata": {},
   "source": [
    "# Nonstructural Seismic Fragility Tool \n",
    "Tool to estimate fragility paramater of nonstrcutural building components from experimental testing database. Fits fragilities using the maximum liklihood estimation, assuming a lognormal distribution. \n",
    "\n",
    "Prior to running script ensure that all required packages are installed by running the following commands on your command line\n",
    " - pip install numpy\n",
    " - pip install scipy\n",
    " - pip install pandas\n",
    " - pip install matplotlib\n",
    " - pip install ipywidgets"
   ]
  },
  {
   "cell_type": "markdown",
   "id": "0feff63d",
   "metadata": {},
   "source": [
    "## Import packages"
   ]
  },
  {
   "cell_type": "code",
   "execution_count": 1,
   "id": "bce60425",
   "metadata": {},
   "outputs": [],
   "source": [
    "import numpy as np\n",
    "import scipy as sp\n",
    "from scipy import stats\n",
    "import pandas as pd\n",
    "import matplotlib.pyplot as plt\n",
    "import ipywidgets as widgets"
   ]
  },
  {
   "cell_type": "markdown",
   "id": "61d1c966",
   "metadata": {},
   "source": [
    "## Load testing database"
   ]
  },
  {
   "cell_type": "code",
   "execution_count": 2,
   "id": "d2da0fa7",
   "metadata": {},
   "outputs": [
    {
     "name": "stdout",
     "output_type": "stream",
     "text": [
      "     Specimen ID  Reference id      Component Type  Damage State Intensity  \\\n",
      "0              1  KAT-2006-SEI  Drywall Partitions                 0.01500   \n",
      "1              1  KAT-2006-SEI  Drywall Partitions                 0.02000   \n",
      "2              1  KAT-2006-SEI  Drywall Partitions                 0.04000   \n",
      "3              1  KAT-2006-SEI  Drywall Partitions                 0.10000   \n",
      "4              2  KAT-2006-SEI  Drywall Partitions                 0.00500   \n",
      "..           ...           ...                 ...                     ...   \n",
      "271           72  RYA-2015-SEI     Fire Sprinklers                 0.66709   \n",
      "272           72  RYA-2015-SEI     Fire Sprinklers                 0.85012   \n",
      "273           72  RYA-2015-SEI     Fire Sprinklers                 0.89900   \n",
      "274           72  RYA-2015-SEI     Fire Sprinklers                 1.12540   \n",
      "275           72  RYA-2015-SEI     Fire Sprinklers                 1.21860   \n",
      "\n",
      "    Damage State Unit  Damage State Rank  \n",
      "0               Drift                NaN  \n",
      "1               Drift                NaN  \n",
      "2               Drift                NaN  \n",
      "3               Drift                NaN  \n",
      "4               Drift                NaN  \n",
      "..                ...                ...  \n",
      "271           PFA (g)                3.0  \n",
      "272           PFA (g)                3.0  \n",
      "273           PFA (g)                3.0  \n",
      "274           PFA (g)                3.0  \n",
      "275           PFA (g)                3.0  \n",
      "\n",
      "[276 rows x 6 columns]\n"
     ]
    }
   ],
   "source": [
    "df = pd.read_csv('db_experimental.csv')\n",
    "print(df)"
   ]
  },
  {
   "cell_type": "markdown",
   "id": "e94b8232",
   "metadata": {},
   "source": [
    "## Characterize Data"
   ]
  },
  {
   "cell_type": "code",
   "execution_count": 3,
   "id": "431a5393",
   "metadata": {},
   "outputs": [
    {
     "data": {
      "image/png": "[encoded data removed]",
      "text/plain": [
       "<Figure size 432x288 with 1 Axes>"
      ]
     },
     "metadata": {
      "needs_background": "light"
     },
     "output_type": "display_data"
    }
   ],
   "source": [
    "ax = df['Component Type'].value_counts(sort=True).plot.bar(rot=90, title='Damage Observations by Component Type')\n",
    "ax.set_ylabel(\"Number of Damage Recordings\");\n",
    "comp_types = df['Component Type'].unique()\n",
    "edp_types = df['Damage State Unit'].unique()"
   ]
  },
  {
   "cell_type": "markdown",
   "id": "21e3dcba",
   "metadata": {},
   "source": [
    "## Select Component Type and Fit Fragility\n",
    "From the available component types listed above, select a type of component to develop a seismic fragility curve."
   ]
  },
  {
   "cell_type": "markdown",
   "id": "e06d6ae4",
   "metadata": {},
   "source": [
    "### Check if all damage records use the same demand parameter"
   ]
  },
  {
   "cell_type": "code",
   "execution_count": 4,
   "id": "af64f9e5",
   "metadata": {},
   "outputs": [],
   "source": [
    "def check_edp(comptype=\"Drywall Partitions\"):\n",
    "    newdf = df[(df['Component Type'] == comptype)]\n",
    "    ax = newdf['Damage State Unit'].value_counts(sort=True).plot.bar(rot=90, title='Demand Parameters Observed')\n",
    "    ax.set_ylabel(\"Number of Damage Recordings\");"
   ]
  },
  {
   "cell_type": "code",
   "execution_count": 5,
   "id": "d8686b66",
   "metadata": {},
   "outputs": [
    {
     "data": {
      "application/vnd.jupyter.widget-view+json": {
       "model_id": "cd4c5f5c64b649a097b70f12259c6001",
       "version_major": 2,
       "version_minor": 0
      },
      "text/plain": [
       "interactive(children=(Dropdown(description='comptype', options=('Drywall Partitions', 'Doors', 'Elevators', 'S…"
      ]
     },
     "metadata": {},
     "output_type": "display_data"
    }
   ],
   "source": [
    "widgets.interact(check_edp, comptype = comp_types);"
   ]
  },
  {
   "cell_type": "markdown",
   "id": "7f537c26",
   "metadata": {},
   "source": [
    "### Plot Distribution of Damage Records"
   ]
  },
  {
   "cell_type": "code",
   "execution_count": 6,
   "id": "379a898e",
   "metadata": {},
   "outputs": [],
   "source": [
    "def check_intensity(comptype=\"Drywall Partitions\",edp='Drift'):\n",
    "    newdf = df[(df['Component Type'] == comptype) & (df['Damage State Unit'] == edp)]\n",
    "    convert_data = newdf[['Damage State Intensity']].apply(pd.to_numeric)\n",
    "    ax = convert_data.plot.hist(column=[\"Damage State Intensity\"], title='Component Capacity')\n",
    "    ax.set_xlabel(edp);"
   ]
  },
  {
   "cell_type": "code",
   "execution_count": 7,
   "id": "a761ce01",
   "metadata": {},
   "outputs": [
    {
     "data": {
      "application/vnd.jupyter.widget-view+json": {
       "model_id": "635cb5643a9e4e708dbe27bab551809b",
       "version_major": 2,
       "version_minor": 0
      },
      "text/plain": [
       "interactive(children=(Dropdown(description='comptype', options=('Drywall Partitions', 'Doors', 'Elevators', 'S…"
      ]
     },
     "metadata": {},
     "output_type": "display_data"
    }
   ],
   "source": [
    "widgets.interact(check_intensity, comptype = comp_types, edp = edp_types);"
   ]
  },
  {
   "cell_type": "markdown",
   "id": "67c95ebb",
   "metadata": {},
   "source": [
    "### Fit Seismic Fragility"
   ]
  },
  {
   "cell_type": "code",
   "execution_count": 8,
   "id": "ea7afdd2",
   "metadata": {},
   "outputs": [],
   "source": [
    "def fit_frag(comptype=\"Drywall Partitions\",edp='Drift'):\n",
    "    newdf = df[(df['Component Type'] == comptype) & (df['Damage State Unit'] == edp)]\n",
    "    if newdf.size > 0:\n",
    "        convert_data = newdf[['Damage State Intensity']].apply(pd.to_numeric)\n",
    "\n",
    "        # Rank the data\n",
    "        ranked_data = convert_data.sort_values(by='Damage State Intensity')\n",
    "        num_records = ranked_data.size\n",
    "        ranked_data['rank'] = np.linspace(1, num_records, num=num_records)/num_records\n",
    "\n",
    "        # Fit the fragility\n",
    "        up_lim = ranked_data['Damage State Intensity'].max()\n",
    "        x=np.linspace(0,up_lim,100)\n",
    "        param = sp.stats.lognorm.fit(ranked_data['Damage State Intensity'])\n",
    "        cdf_fitted = sp.stats.lognorm.cdf(x, param[0], loc=param[1], scale=param[2]) # fitted distribution\n",
    "\n",
    "        # Plot the data\n",
    "        ax = ranked_data.plot.scatter(x='Damage State Intensity', y='rank')\n",
    "        plt.plot(x,cdf_fitted,'r-')\n",
    "        ax.set_xlabel(edp);\n",
    "\n",
    "        # Print the Fragility Parameters\n",
    "        print('μ = ', round(param[2],3))\n",
    "        print('β = ', round(param[0],2))\n",
    "    else:\n",
    "      print(\"No Damage Records\")\n",
    "    "
   ]
  },
  {
   "cell_type": "code",
   "execution_count": 9,
   "id": "5bafa3c4",
   "metadata": {},
   "outputs": [
    {
     "data": {
      "application/vnd.jupyter.widget-view+json": {
       "model_id": "579d322b924f4210a1881e0d64f6d559",
       "version_major": 2,
       "version_minor": 0
      },
      "text/plain": [
       "interactive(children=(Dropdown(description='comptype', options=('Drywall Partitions', 'Doors', 'Elevators', 'S…"
      ]
     },
     "metadata": {},
     "output_type": "display_data"
    }
   ],
   "source": [
    "widgets.interact(fit_frag, comptype = comp_types, edp = edp_types);"
   ]
  }
 ],
 "metadata": {
  "kernelspec": {
   "display_name": "Python 3 (ipykernel)",
   "language": "python",
   "name": "python3"
  },
  "language_info": {
   "codemirror_mode": {
    "name": "ipython",
    "version": 3
   },
   "file_extension": ".py",
   "mimetype": "text/x-python",
   "name": "python",
   "nbconvert_exporter": "python",
   "pygments_lexer": "ipython3",
   "version": "3.9.13"
  }
 },
 "nbformat": 4,
 "nbformat_minor": 5
}
